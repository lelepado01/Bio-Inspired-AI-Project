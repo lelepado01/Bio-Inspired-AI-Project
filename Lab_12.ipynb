{
 "cells": [
  {
   "attachments": {},
   "cell_type": "markdown",
   "id": "872dd06c",
   "metadata": {
    "tags": []
   },
   "source": [
    "# Introduction\n",
    "\n",
    "## Goal.\n",
    "The goal of this lab is to study the application of quality-diversity algorithms, in particular the Multi-dimensional Archive of Phenotypic Elites (MAP-Elites) to various kinds of problems. We will also investigate the parametrization of the algorithm and its effect on the algorithmic performance.\n",
    "\n",
    "## Getting started. \n",
    "In this lab we will use the `qdpy`$^{[1]}$ library, as well as the `deap` library seen in the previous lab. All the exercises are based on the examples available in the library$^{[2]}$, with some modifications. Please note that the `qdpy` library contains many other quality-diversity algorithms, such as Novelty Search, and advanced variants of MAP-Elites. However, in this lab we will use for simplicity only the vanilla version of MAP-Elites.\n",
    "\n",
    "The basic version of MAP-Elites is shown in Algorithm 1. In the pseudo-code, $\\textbf{x}$ and $\\textbf{x}'$ are candidate solutions (i.e., $n$-dimensional vectors defined in the search space $\\textbf{D}$); $\\textbf{b}'$ is a *feature descriptor*, that is a location in a user-defined *discretized* feature space (which can be seen as a *grid* made of *bins*), corresponding to the candidate solution $\\textbf{x}'$, (i.e., an $N$-dimensional vector of user-defined features that characterize $\\textbf{x}'$, typically with $N<n$); $p'$ is the performance of the candidate solution $\\textbf{x}'$ (i.e., the scalar value returned by the objective function $f(\\textbf{x}')$; $\\mathcal{P}$ is a $<$feature descriptor, performance$>$ map (i.e., an associative table that stores the best performance associated to each feature descriptor encountered by the algorithm); $\\mathcal{X}$ is a $<$feature descriptor, solution$>$ map (i.e., an associative table that stores the best solution associated to each feature descriptor encountered by the algorithm); $\\mathcal{P}(\\textbf{b}')$ is the best performance associated to the feature descriptor $\\textbf{b}'$ (it can be empty); $\\mathcal{X}(\\textbf{b}')$ is the best solution associated to the feature descriptor $\\textbf{b}'$ (it can be empty).\n",
    "\n",
    "![alg1.png](img/img_12/alg1.png)\n",
    "\n",
    "Following the pseudo-code shown above, the algorithm first creates the two maps $\\mathcal{P}$ and $\\mathcal{X}$, which are initially empty. Then, a while loop is executed until a given stop criterion is not met (usually, on the maximum number of function evaluations). Each iteration of the loop evaluates a *batch* of solutions. In the first batch, a given number of solutions are randomly sampled, see the `randomSolution()` function, in the search space $\\textbf{D}$, which are used for initializing the two maps $\\mathcal{P}$ and $\\mathcal{X}$. Then, starting from the next iteration, solutions are first randomly selected from the current map $\\mathcal{X}$, through the randomSelection() operator, and then perturbed according to the `randomVariation()` operator. For each new solution $\\textbf{x}'$, the corresponding feature descriptor $\\textbf{b}'$ and performance $p'$ are then evaluated. At this point, the two maps $\\mathcal{P}$ and $\\mathcal{X}$ are updated: if the performance associated to $\\textbf{b}'$, $\\mathcal{P}(\\textbf{b}')$, is empty (which can happen if this is the first time that the algorithm generates a solution with that feature descriptor), or if it contains a value that is worse than the performance $p'$ of the newly generated solution (in the pseudo-code, we assume a minimization problem, therefore we check the condition $\\mathcal{P}(\\textbf{b}') > p'$), the new solution $\\textbf{x}'$ and its performance $p'$ are assigned to the elements of the maps corresponding to its feature descriptor $\\textbf{b}'$, namely $\\mathcal{P}(\\textbf{b}')$ and $\\mathcal{X}(\\textbf{b}')$. Once the loop terminates, the algorithm returns the two maps $\\mathcal{P}$ and $\\mathcal{X}$, which can be later analyzed for further inspection and post-processing.\n",
    "\n",
    "It can be immediately noted how simple the algorithm is. With reference to the pseudo-code, in order to apply MAP-Elites to a specific problem the following methods must be defined:\n",
    "\n",
    " - $\\textrm{randomSolution()}$: returns a randomly generated solution;\n",
    " - $\\textrm{randomSelection($\\mathcal{X}$)}$: randomly selects a solution from $\\mathcal{X}$;\n",
    " - $\\textrm{randomVariation($\\textbf{x}$)}$: returns a modified copy of $\\textbf{x}$;\n",
    " - $\\textrm{featureDescriptor}(\\textbf{x})$: maps a candidate solution $\\textbf{x}$ to its feature descriptor, $\\textbf{b}$;\n",
    " - $\\textrm{performance}(\\textbf{x})$: evaluates the objective function of the candidate solution $\\textbf{x}$.\n",
    "\n",
    "The first three methods are rather standard, i.e., they can be based on general-purpose operators typically used in EAs. However, it is possible to customize them according to the specific need. For instance, in the first two exercises of this lab we will use uniform random sampling and uniform random selection for the first two operators. For the variation operator, we will use the `RandomSearchMutPolyBounded` operator provided by `qdpy`, which essentially performs uniform random mutations with a saturation on the bounds of the search space. In the third exercise, we will use instead the typical operators of Genetic Programming.\n",
    "\n",
    "As for what concerns $\\textrm{featureDescriptor}(\\textbf{x})$ and $\\textrm{performance}(\\textbf{x})$, these are obviously problem-dependent: the first one, being dependent on how the user defines the features of interest and the corresponding feature space; the latter, being dependent on the specific objective function at hand. In the exercises, we will see different definitions of performances and descriptors.\n",
    "\n",
    "---\n",
    "[1]: A Quality-Diversity framework for Python 3.6+: https://gitlab.com/leo.cazenille/qdpy\n",
    "\n",
    "[2]: Examples avaiable at https://gitlab.com/leo.cazenille/qdpy/-/tree/master/examples"
   ]
  },
  {
   "attachments": {},
   "cell_type": "markdown",
   "id": "abf9861b",
   "metadata": {},
   "source": [
    "# Exercise 1\n",
    "In this exercise, we will use MAP-Elites to _illuminate_ the feature space of a benchmark function that we have already used in some of the first labs, namely the Rastrigin function$^{[1]}$, which as you may remember is a highly multimodal problem.\n",
    "\n",
    "For simplicity, we will use as feature descriptor for MAP-Elites the first two variables of the problem. Note however that, in general, the features used in MAP-Elites can be any property (different from the fitness function) of the solutions to the problem at hand.\n",
    "\n",
    "To start the experiments, run the next cell. This will allow you to reproduce your results. At the end of the run, the script will generate a series of plots (see the figure below) in the `results/ex1/seed` directory, namely: \n",
    "\n",
    " - `activityGrid.pdf`: this map indicates, for each bin, how many times that bin has been updated (i.e., its elite has been replaced) during the evolutionary process;\n",
    " - `evals_contsize.pdf`: this trend indicates the cumulative number of bins filled during the evolutionary process; \n",
    " - `evals_fitnessmax0.pdf`: this trend is the usual fitness trend that we have seen in the previous labs (note: in this case the fitness has to be minimized);\n",
    " - `iterations_nbupdated.pdf`: this trend indicates how many bins are updated at each iteration of MAP-Elites;\n",
    " - `performancesGrid.pdf`: this is the final _illumination_ map that shows how the performance of the elites changes depending on the features at hand (brighter color indicates better results-note that the fitness is normalized in [0,1]).\n",
    "\n",
    "The main outputs of the experiments of the first exercise are an *activity grid* (see the figure below, left), and a *performance grid* (see the figure below, right). More plots are available in the exercise folder after the execution of the experiments.\n",
    "\n",
    "![ex1.png](img/img_12/ex1.png)\n",
    "\n",
    "Furthermore, the script will serialize the final version of the map handled by MAP-Elites in a pickle file named `final.p`, that can be deserialized and manipulated for further analysis.\n",
    "\n",
    " - What kind of considerations can you make regarding the fitness trend (Is the algorithm able to converge to a reasonably low fitness function? How quick is the convergence?), and the activity grid (For instance, are there regions of the feature space that are visited/updated more frequently than others?). What kind of illumination pattern do you observe? Do you see any trend/correlation between performance and features of the map?\n",
    "    \n",
    " - Try to change the parameters of the MAP-Elites algorithm, i.e.,: `NO_BINS`, `MAX_ITEMS_BIN`, `BUDGET`, `BATCH_SIZE`, which indicate, respectively, the number of bins (that is the same for both features), the maximum number of items stored in each bin of the grid, the total budget of the evolutionary process (number of function evaluations), and the batch size, i.e., how many solutions are evaluated at each iteration of MAP-Elites. Focus in particular on `NO_BINS`. What is the effect on the fitness trend and the performance map when you increase or decrease the number of bins?\n",
    "    \n",
    " - Try to change the problem dimension (`PROBLEM_DIM`) to a much larger value, for instance 10 (remember that Rastrigin is a scalable benchmark problem, meaning that it can be defined for any number of variables). Note that in any case the first two variables are taken as features for MAP-Elites. What kind of considerations can you make in this case regarding the illumination pattern and the other aspects (i.e., the fitness trend and the activity grid) of the results? Does illumination become more difficult (i.e., less bins are visited, with poorer performance)? Why?\n",
    "\n",
    "---\n",
    "\n",
    "[1]: Rastrigin function https://pythonhosted.org/inspyred/reference.html\\#inspyred.benchmarks.Rastrigin"
   ]
  },
  {
   "cell_type": "code",
   "execution_count": 7,
   "id": "0b9a176a",
   "metadata": {},
   "outputs": [
    {
     "name": "stdout",
     "output_type": "stream",
     "text": [
      "Defaulting to user installation because normal site-packages is not writeable\n",
      "Requirement already satisfied: qdpy in /Users/gabrielepadovani/Library/Python/3.9/lib/python/site-packages (0.1.2.1)\n",
      "Requirement already satisfied: psutil>=5.7.0 in /Users/gabrielepadovani/Library/Python/3.9/lib/python/site-packages (from qdpy) (5.9.5)\n",
      "Requirement already satisfied: numpy>=1.15.0 in /Users/gabrielepadovani/Library/Python/3.9/lib/python/site-packages (from qdpy) (1.24.3)\n",
      "Requirement already satisfied: scipy>=1.2.0 in /Users/gabrielepadovani/Library/Python/3.9/lib/python/site-packages (from qdpy) (1.10.1)\n",
      "Requirement already satisfied: pandas>=0.23.0 in /Users/gabrielepadovani/Library/Python/3.9/lib/python/site-packages (from qdpy) (2.0.1)\n",
      "Requirement already satisfied: sklearn>=0.0 in /Users/gabrielepadovani/Library/Python/3.9/lib/python/site-packages (from qdpy) (0.0.post5)\n",
      "Requirement already satisfied: matplotlib>=3.0.0 in /Users/gabrielepadovani/Library/Python/3.9/lib/python/site-packages (from qdpy) (3.7.1)\n",
      "Requirement already satisfied: typing-extensions>=3.6.6 in /Users/gabrielepadovani/Library/Python/3.9/lib/python/site-packages (from qdpy) (4.5.0)\n",
      "Requirement already satisfied: PyYAML>=3.13 in /Users/gabrielepadovani/Library/Python/3.9/lib/python/site-packages (from qdpy) (6.0)\n",
      "Requirement already satisfied: contourpy>=1.0.1 in /Users/gabrielepadovani/Library/Python/3.9/lib/python/site-packages (from matplotlib>=3.0.0->qdpy) (1.0.7)\n",
      "Requirement already satisfied: cycler>=0.10 in /Users/gabrielepadovani/Library/Python/3.9/lib/python/site-packages (from matplotlib>=3.0.0->qdpy) (0.11.0)\n",
      "Requirement already satisfied: fonttools>=4.22.0 in /Users/gabrielepadovani/Library/Python/3.9/lib/python/site-packages (from matplotlib>=3.0.0->qdpy) (4.39.3)\n",
      "Requirement already satisfied: kiwisolver>=1.0.1 in /Users/gabrielepadovani/Library/Python/3.9/lib/python/site-packages (from matplotlib>=3.0.0->qdpy) (1.4.4)\n",
      "Requirement already satisfied: packaging>=20.0 in /Users/gabrielepadovani/Library/Python/3.9/lib/python/site-packages (from matplotlib>=3.0.0->qdpy) (23.1)\n",
      "Requirement already satisfied: pillow>=6.2.0 in /Users/gabrielepadovani/Library/Python/3.9/lib/python/site-packages (from matplotlib>=3.0.0->qdpy) (9.5.0)\n",
      "Requirement already satisfied: pyparsing>=2.3.1 in /Users/gabrielepadovani/Library/Python/3.9/lib/python/site-packages (from matplotlib>=3.0.0->qdpy) (3.0.9)\n",
      "Requirement already satisfied: python-dateutil>=2.7 in /Users/gabrielepadovani/Library/Python/3.9/lib/python/site-packages (from matplotlib>=3.0.0->qdpy) (2.8.2)\n",
      "Requirement already satisfied: importlib-resources>=3.2.0 in /Users/gabrielepadovani/Library/Python/3.9/lib/python/site-packages (from matplotlib>=3.0.0->qdpy) (5.12.0)\n",
      "Requirement already satisfied: pytz>=2020.1 in /Users/gabrielepadovani/Library/Python/3.9/lib/python/site-packages (from pandas>=0.23.0->qdpy) (2023.3)\n",
      "Requirement already satisfied: tzdata>=2022.1 in /Users/gabrielepadovani/Library/Python/3.9/lib/python/site-packages (from pandas>=0.23.0->qdpy) (2023.3)\n",
      "Requirement already satisfied: zipp>=3.1.0 in /Users/gabrielepadovani/Library/Python/3.9/lib/python/site-packages (from importlib-resources>=3.2.0->matplotlib>=3.0.0->qdpy) (3.15.0)\n",
      "Requirement already satisfied: six>=1.5 in /Library/Developer/CommandLineTools/Library/Frameworks/Python3.framework/Versions/3.9/lib/python3.9/site-packages (from python-dateutil>=2.7->matplotlib>=3.0.0->qdpy) (1.15.0)\n"
     ]
    }
   ],
   "source": [
    "!python3 -m pip install qdpy"
   ]
  },
  {
   "cell_type": "code",
   "execution_count": 22,
   "id": "ff27d1c3",
   "metadata": {},
   "outputs": [],
   "source": [
    "# remove all directories in results/ex1 folder (run rm -rf)\n",
    "import os\n",
    "import subprocess\n",
    "\n",
    "folder = 'results/ex1'\n",
    "for filename in os.listdir(folder):\n",
    "    file_path = os.path.join(folder, filename)\n",
    "    subprocess.run(['rm', '-rf', file_path])"
   ]
  },
  {
   "cell_type": "code",
   "execution_count": 25,
   "id": "45c94008",
   "metadata": {
    "tags": []
   },
   "outputs": [
    {
     "name": "stdout",
     "output_type": "stream",
     "text": [
      "Seed: 166385\n"
     ]
    },
    {
     "name": "stderr",
     "output_type": "stream",
     "text": [
      "  8%|▊         | 756/10000 [00:00<00:04, 1889.45eval/s, iteration=1]"
     ]
    },
    {
     "name": "stdout",
     "output_type": "stream",
     "text": [
      "alg_name                                iteration cont_size evals     nb_updated     avg       std       min       max       ft_min              ft_max              qd_score  elapsed\n",
      "RandomSearchMutPolyBounded-6193969664   0         479/4096  500       493            [0.4143]  [0.1278]  [0.0235]  [0.7436]  [0.0009,0.0042]     [0.9999,0.9999]     280.55    0.24   \n"
     ]
    },
    {
     "name": "stderr",
     "output_type": "stream",
     "text": [
      " 12%|█▏        | 1230/10000 [00:00<00:06, 1427.45eval/s, iteration=2]"
     ]
    },
    {
     "name": "stdout",
     "output_type": "stream",
     "text": [
      "RandomSearchMutPolyBounded-6193969664   1         744/4096  500       326            [0.403]   [0.1292]  [0.0235]  [0.776]   [0.0009,0.0029]     [0.9999,0.9999]     444.17    0.32   \n"
     ]
    },
    {
     "name": "stderr",
     "output_type": "stream",
     "text": [
      " 18%|█▊        | 1814/10000 [00:01<00:06, 1332.98eval/s, iteration=3]"
     ]
    },
    {
     "name": "stdout",
     "output_type": "stream",
     "text": [
      "RandomSearchMutPolyBounded-6193969664   2         992/4096  500       308            [0.3969]  [0.1282]  [0.0235]  [0.8474]  [0.0009,0.0001]     [0.9999,0.9999]     598.23    0.45   \n"
     ]
    },
    {
     "name": "stderr",
     "output_type": "stream",
     "text": [
      " 23%|██▎       | 2302/10000 [00:01<00:05, 1532.10eval/s, iteration=4]"
     ]
    },
    {
     "name": "stdout",
     "output_type": "stream",
     "text": [
      "RandomSearchMutPolyBounded-6193969664   3         1216/4096 500       295            [0.394]   [0.1264]  [0.0235]  [0.8474]  [0.0009,0.0001]     [0.9999,0.9999]     736.84    0.30   \n"
     ]
    },
    {
     "name": "stderr",
     "output_type": "stream",
     "text": [
      " 27%|██▋       | 2732/10000 [00:01<00:05, 1259.75eval/s, iteration=5]"
     ]
    },
    {
     "name": "stdout",
     "output_type": "stream",
     "text": [
      "RandomSearchMutPolyBounded-6193969664   4         1447/4096 500       305            [0.3916]  [0.1274]  [0.0235]  [0.7436]  [0.0009,0.0001]     [0.9999,0.9999]     880.29    0.38   \n"
     ]
    },
    {
     "name": "stderr",
     "output_type": "stream",
     "text": [
      " 33%|███▎      | 3292/10000 [00:02<00:05, 1308.63eval/s, iteration=6]"
     ]
    },
    {
     "name": "stdout",
     "output_type": "stream",
     "text": [
      "RandomSearchMutPolyBounded-6193969664   5         1648/4096 500       283            [0.3898]  [0.1281]  [0.0235]  [0.766]   [0.0009,0.0001]     [0.9999,0.9999]     1005.60   0.36   \n"
     ]
    },
    {
     "name": "stderr",
     "output_type": "stream",
     "text": [
      " 37%|███▋      | 3714/10000 [00:02<00:04, 1289.08eval/s, iteration=7]"
     ]
    },
    {
     "name": "stdout",
     "output_type": "stream",
     "text": [
      "RandomSearchMutPolyBounded-6193969664   6         1839/4096 500       278            [0.3852]  [0.1274]  [0.0095]  [0.766]   [0.0009,0.0001]     [0.9999,0.9999]     1130.60   0.38   \n"
     ]
    },
    {
     "name": "stderr",
     "output_type": "stream",
     "text": [
      " 42%|████▏     | 4176/10000 [00:03<00:05, 985.81eval/s, iteration=8] "
     ]
    },
    {
     "name": "stdout",
     "output_type": "stream",
     "text": [
      "RandomSearchMutPolyBounded-6193969664   7         2018/4096 500       264            [0.3831]  [0.1272]  [0.0095]  [0.766]   [0.0006,0.0001]     [0.9999,0.9999]     1244.88   0.45   \n"
     ]
    },
    {
     "name": "stderr",
     "output_type": "stream",
     "text": [
      " 47%|████▋     | 4726/10000 [00:03<00:04, 1188.86eval/s, iteration=9]"
     ]
    },
    {
     "name": "stdout",
     "output_type": "stream",
     "text": [
      "RandomSearchMutPolyBounded-6193969664   8         2168/4096 500       240            [0.3799]  [0.1265]  [0.0095]  [0.766]   [0.0006,0.0001]     [0.9999,0.9999]     1344.28   0.41   \n"
     ]
    },
    {
     "name": "stderr",
     "output_type": "stream",
     "text": [
      " 52%|█████▏    | 5242/10000 [00:04<00:04, 1166.69eval/s, iteration=10]"
     ]
    },
    {
     "name": "stdout",
     "output_type": "stream",
     "text": [
      "RandomSearchMutPolyBounded-6193969664   9         2315/4096 500       248            [0.3783]  [0.1263]  [0.0095]  [0.766]   [0.0006,0.0001]     [0.9999,0.9999]     1439.32   0.43   \n"
     ]
    },
    {
     "name": "stderr",
     "output_type": "stream",
     "text": [
      " 57%|█████▋    | 5689/10000 [00:04<00:04, 1047.61eval/s, iteration=11]"
     ]
    },
    {
     "name": "stdout",
     "output_type": "stream",
     "text": [
      "RandomSearchMutPolyBounded-6193969664   10        2444/4096 500       227            [0.3761]  [0.1258]  [0.0095]  [0.766]   [0.0006,0.0001]     [0.9999,0.9999]     1524.72   0.42   \n"
     ]
    },
    {
     "name": "stderr",
     "output_type": "stream",
     "text": [
      " 62%|██████▏   | 6240/10000 [00:04<00:03, 1098.15eval/s, iteration=12]"
     ]
    },
    {
     "name": "stdout",
     "output_type": "stream",
     "text": [
      "RandomSearchMutPolyBounded-6193969664   11        2569/4096 500       239            [0.3753]  [0.1263]  [0.0095]  [0.8115]  [0.0006,0.0001]     [0.9999,0.9999]     1604.84   0.47   \n"
     ]
    },
    {
     "name": "stderr",
     "output_type": "stream",
     "text": [
      " 67%|██████▋   | 6675/10000 [00:05<00:03, 1008.98eval/s, iteration=13]"
     ]
    },
    {
     "name": "stdout",
     "output_type": "stream",
     "text": [
      "RandomSearchMutPolyBounded-6193969664   12        2678/4096 500       225            [0.3725]  [0.1262]  [0.0095]  [0.8115]  [0.0006,0.0001]     [0.9999,0.9999]     1680.40   0.44   \n"
     ]
    },
    {
     "name": "stderr",
     "output_type": "stream",
     "text": [
      " 72%|███████▏  | 7245/10000 [00:05<00:02, 1123.02eval/s, iteration=14]"
     ]
    },
    {
     "name": "stdout",
     "output_type": "stream",
     "text": [
      "RandomSearchMutPolyBounded-6193969664   13        2778/4096 500       222            [0.3705]  [0.1257]  [0.0095]  [0.8115]  [0.0006,0.0001]     [0.9999,0.9999]     1748.80   0.48   \n"
     ]
    },
    {
     "name": "stderr",
     "output_type": "stream",
     "text": [
      " 77%|███████▋  | 7654/10000 [00:06<00:02, 1066.28eval/s, iteration=15]"
     ]
    },
    {
     "name": "stdout",
     "output_type": "stream",
     "text": [
      "RandomSearchMutPolyBounded-6193969664   14        2886/4096 500       217            [0.3694]  [0.1259]  [0.0095]  [0.8115]  [0.0008,0.0001]     [0.9999,1.0000]     1819.81   0.43   \n"
     ]
    },
    {
     "name": "stderr",
     "output_type": "stream",
     "text": [
      " 82%|████████▏ | 8240/10000 [00:06<00:01, 1076.02eval/s, iteration=16]"
     ]
    },
    {
     "name": "stdout",
     "output_type": "stream",
     "text": [
      "RandomSearchMutPolyBounded-6193969664   15        2986/4096 500       208            [0.3678]  [0.1253]  [0.0095]  [0.8115]  [0.0008,0.0001]     [0.9999,1.0000]     1887.79   0.52   \n"
     ]
    },
    {
     "name": "stderr",
     "output_type": "stream",
     "text": [
      " 87%|████████▋ | 8678/10000 [00:07<00:01, 1014.69eval/s, iteration=17]"
     ]
    },
    {
     "name": "stdout",
     "output_type": "stream",
     "text": [
      "RandomSearchMutPolyBounded-6193969664   16        3070/4096 500       201            [0.3664]  [0.1254]  [0.0095]  [0.8115]  [0.0008,0.0006]     [0.9999,1.0000]     1945.06   0.42   \n"
     ]
    },
    {
     "name": "stderr",
     "output_type": "stream",
     "text": [
      " 92%|█████████▏| 9230/10000 [00:07<00:00, 1020.88eval/s, iteration=18]"
     ]
    },
    {
     "name": "stdout",
     "output_type": "stream",
     "text": [
      "RandomSearchMutPolyBounded-6193969664   17        3165/4096 500       193            [0.3655]  [0.1253]  [0.0095]  [0.8115]  [0.0008,0.0006]     [0.9999,1.0000]     2008.13   0.49   \n"
     ]
    },
    {
     "name": "stderr",
     "output_type": "stream",
     "text": [
      " 97%|█████████▋| 9670/10000 [00:08<00:00, 987.22eval/s, iteration=19] "
     ]
    },
    {
     "name": "stdout",
     "output_type": "stream",
     "text": [
      "RandomSearchMutPolyBounded-6193969664   18        3226/4096 500       170            [0.3637]  [0.1247]  [0.0095]  [0.846]   [0.0008,0.0004]     [0.9999,1.0000]     2052.59   0.43   \n"
     ]
    },
    {
     "name": "stderr",
     "output_type": "stream",
     "text": [
      "                                                                       \r"
     ]
    },
    {
     "name": "stdout",
     "output_type": "stream",
     "text": [
      "RandomSearchMutPolyBounded-6193969664   19        3297/4096 500       180            [0.3627]  [0.1247]  [0.0095]  [0.846]   [0.0008,0.0004]     [0.9999,1.0000]     2101.16   0.48   \n",
      "Finished optimisation using algorithm 'RandomSearchMutPolyBounded-6193969664'. Total elapsed: 8.543972875000009.\n",
      "\n",
      "Summary RandomSearchMutPolyBounded:\n",
      "  batch_size: 500\n",
      "  budget: 10000\n",
      "  container:  Summary Grid:\n",
      "    activity_per_bin: [[0. 1. 0. ... 2. 1. 2.]  [1. 1. 0. ... 1. 1. 0.]  [1. 1. 2. ... 0. 2. 1.]  ...  [1. 0. 0. ... 1. 2. 1.]  [0. 2. 1. ... 1. 1. 0.]  [0. 1. 0. ... 0. 1. 1.]]\n",
      "    best: Individual([0.4983822959178482, 0.49405811978723246, 0.5050997817020039])\n",
      "    best_features: [0.4983822959178482, 0.49405811978723246]\n",
      "    best_fitness: (0.009493624381236647,)\n",
      "    best_index: (31, 31)\n",
      "    capacity: 4096\n",
      "    depot: None\n",
      "    discard_random_on_bin_overload: False\n",
      "    features: {(0, 0): [], (0, 1): [Features([0.012262003501136709, 0.030556354686266496])], (0, 2): [], (0, 3): [Features([0.011712588330688223, 0.04895516984348425])], (0, 4): [Features([0.014024173537930174, 0.06628366652995898])], (0, 5): [Features([0.002 ...\n",
      "    features_domain: ((0.0, 1.0), (0.0, 1.0))\n",
      "    features_extrema: ((0.000823271306207185, 0.9999307613790541), (0.000381022226920269, 0.9999594527252293))\n",
      "    filled_bins: 3297\n",
      "    fitness: {(0, 0): [], (0, 1): [Fitness([0.4036677827215322])], (0, 2): [], (0, 3): [Fitness([0.6036053495760325])], (0, 4): [Fitness([0.5258872805778101])], (0, 5): [Fitness([0.5072224799836063])], (0, 6): [], (0, 7): [], (0, 8): [Fitness([0.438966832570 ...\n",
      "    fitness_domain: ((0.0, 1.0),)\n",
      "    fitness_extrema: ((0.009493624381236647, 0.8459782366471811),)\n",
      "    free: 799\n",
      "    history_recentness_per_bin: {(0, 0): [], (0, 1): [636], (0, 2): [], (0, 3): [3384], (0, 4): [1659, 3178], (0, 5): [3378, 3827], (0, 6): [], (0, 7): [], (0, 8): [2971], (0, 9): [288], (0, 10): [3728], (0, 11): [3988, 4323], (0, 12): [472], (0, 13): [485, 747, 2371], (0, 14) ...\n",
      "    items: [Individual([0.6057301359149069, 0.7957533407607879, 0.5883077126305744]), Individual([0.6350513524437653, 0.8574080454855112, 0.6895937011907836]), Individual([0.04612899922545921, 0.3203081615085278, 0.716944928282489]), Individual([0.22622602 ...\n",
      "    max_items_per_bin: 1\n",
      "    name: Grid-11310753104\n",
      "    nb_added: 5122\n",
      "    nb_discarded: 1825\n",
      "    nb_items_per_bin: [[0. 1. 0. ... 1. 1. 1.]  [1. 1. 0. ... 1. 1. 0.]  [1. 1. 1. ... 0. 1. 1.]  ...  [1. 0. 0. ... 1. 1. 1.]  [0. 1. 1. ... 1. 1. 0.]  [0. 1. 0. ... 0. 1. 1.]]\n",
      "    nb_operations: 6947\n",
      "    nb_rejected: 0\n",
      "    quality: {(0, 0): None, (0, 1): Fitness([0.4036677827215322]), (0, 2): None, (0, 3): Fitness([0.6036053495760325]), (0, 4): Fitness([0.5258872805778101]), (0, 5): Fitness([0.5072224799836063]), (0, 6): None, (0, 7): None, (0, 8): Fitness([0.4389668325700 ...\n",
      "    quality_array: [[[       nan]   [0.40366778]   [       nan]   ...   [0.61677906]   [0.41482307]   [0.46039802]]   [[0.47471945]   [0.52311751]   [       nan]   ...   [0.56430439]   [0.57434412]   [       nan]]   [[0.40337031]   [0.51026794]   [0.44713555]   .. ...\n",
      "    recentness: [3, 4, 6, 9, 12, 20, 22, 25, 29, 32, 35, 36, 40, 44, 46, 47, 49, 55, 59, 60, 61, 71, 74, 75, 78, 84, 88, 89, 91, 92, 95, 99, 101, 106, 107, 109, 118, 119, 123, 124, 127, 130, 132, 134, 136, 138, 140, 143, 148, 150, 153, 154, 156, 158, 159, 163,  ...\n",
      "    recentness_per_bin: {(0, 0): [], (0, 1): [636], (0, 2): [], (0, 3): [3384], (0, 4): [3178], (0, 5): [3827], (0, 6): [], (0, 7): [], (0, 8): [2971], (0, 9): [288], (0, 10): [3728], (0, 11): [4323], (0, 12): [472], (0, 13): [2371], (0, 14): [5024], (0, 15): [4344], ( ...\n",
      "    shape: (64, 64)\n",
      "    size: 3297\n",
      "    solutions: {(0, 0): [], (0, 1): [Individual([0.012262003501136709, 0.030556354686266496, 0.3983141214949384])], (0, 2): [], (0, 3): [Individual([0.011712588330688223, 0.04895516984348425, 0.3420278933967541])], (0, 4): [Individual([0.014024173537930174, 0. ...\n",
      "  current_iter: 20\n",
      "  deepcopy_on_selection: True\n",
      "  dimension: 3\n",
      "  eta: 20.0\n",
      "  ind_domain: (0.0, 1.0)\n",
      "  init_pb: 0.5\n",
      "  mut_pb: 0.2\n",
      "  name: RandomSearchMutPolyBounded-6193969664\n",
      "  nb_evaluations: 10000\n",
      "  nb_evaluations_in_iteration: 0\n",
      "  nb_max_iter: 20\n",
      "  nb_suggestions: 10000\n",
      "  nb_suggestions_in_iteration: 0\n",
      "  nb_updated: 5122\n",
      "  nb_updated_in_iteration: 0\n",
      "  optimisation_task: minimisation\n",
      "  sel_pb: 0.5\n",
      "\n",
      "All results are available in the 'final.p' pickle file.\n",
      "\n",
      "    To open it, you can use the following python code:\n",
      "        import pickle\n",
      "        # You may want to import your own packages if the pickle file contains custom objects\n",
      "\n",
      "        with open(\"final.p\", \"rb\") as f:\n",
      "            data = pickle.load(f)\n",
      "        # ``data`` is now a dictionary containing all results, including the final container, all solutions, the algorithm parameters, etc.\n",
      "\n",
      "        grid = data['container']\n",
      "        print(grid.best)\n",
      "        print(grid.best.fitness)\n",
      "        print(grid.best.features)\n",
      "    \n"
     ]
    }
   ],
   "source": [
    "from utils.utils_12.exercise_rastrigin import main\n",
    "\n",
    "\"\"\"\n",
    "-------------------------------------------------------------------------\n",
    "Edit this part to do the exercises\n",
    "\"\"\"\n",
    "\n",
    "# TODO: change these parameters\n",
    "NO_BINS=64          # default 32\n",
    "MAX_ITEMS_BIN=1     # default 1\n",
    "BUDGET=10000        # default 10000\n",
    "BATCH_SIZE=500      # default 500\n",
    "PROBLEM_DIM=3       # default 3\n",
    "\n",
    "\"\"\"\n",
    "-------------------------------------------------------------------------\n",
    "\"\"\"\n",
    "    \n",
    "main(NO_BINS, MAX_ITEMS_BIN, BUDGET, BATCH_SIZE, PROBLEM_DIM)\n",
    "\n"
   ]
  },
  {
   "attachments": {},
   "cell_type": "markdown",
   "id": "34c6e3ab",
   "metadata": {},
   "source": [
    "# Exercise 2\n",
    "This exercise is similar to the previous one. The main difference is that in this case the objective function and feature descriptor are defined by a custom function, see `eval_fn`, that returns for each individual its fitness (`score`) and two features (`fit0` and `fit1`). Note that the fitness and features are based on trigonometric functions and are defined as scalable, i.e., they can be evaluated for any number of variables. \n",
    "\n",
    "To start the experiments, run the next cell. At the end of the run, the script will generate the same plots discussed in the previous exercise, as well as the pickle file containing the raw results, but it will save the results in the `results/ex2/seed` folder.\n",
    "\n",
    "\n",
    " - What kind of considerations can you make in this case regarding the fitness trend and illumination pattern?\n",
    " \n",
    " -  Also in this case, try to change `NO_BINS` and `PROBLEM_DIM`, and see if you can confirm the observations made in the previous experiment.\n",
    " \n",
    " - If you want, you could try to change the custom function definition in `eval_fn` and replicate the experiment with a different setting. What kind of results do you obtain?"
   ]
  },
  {
   "cell_type": "code",
   "execution_count": 26,
   "id": "ee15c39b",
   "metadata": {},
   "outputs": [],
   "source": [
    "import os\n",
    "import subprocess\n",
    "\n",
    "folder = 'results/ex2'\n",
    "for filename in os.listdir(folder):\n",
    "    file_path = os.path.join(folder, filename)\n",
    "    subprocess.run(['rm', '-rf', file_path])"
   ]
  },
  {
   "cell_type": "code",
   "execution_count": 34,
   "id": "5a0bd56d",
   "metadata": {
    "tags": []
   },
   "outputs": [
    {
     "name": "stdout",
     "output_type": "stream",
     "text": [
      "Seed: 132922\n"
     ]
    },
    {
     "name": "stderr",
     "output_type": "stream",
     "text": [
      "  8%|▊         | 808/10000 [00:00<00:05, 1627.01eval/s, iteration=1]"
     ]
    },
    {
     "name": "stdout",
     "output_type": "stream",
     "text": [
      "alg_name                                iteration cont_size evals     nb_updated     avg       std       min       max       ft_min              ft_max              qd_score  elapsed\n",
      "RandomSearchMutPolyBounded-11389593920  0         15/1024   500       16             [0.9437]  [0.3541]  [0.2333]  [1.5434]  [0.5786,0.0077]     [0.9679,0.7751]     5.25      0.27   \n"
     ]
    },
    {
     "name": "stderr",
     "output_type": "stream",
     "text": [
      " 13%|█▎        | 1320/10000 [00:00<00:05, 1645.84eval/s, iteration=2]"
     ]
    },
    {
     "name": "stdout",
     "output_type": "stream",
     "text": [
      "RandomSearchMutPolyBounded-11389593920  1         71/1024   500       84             [0.8809]  [0.3792]  [0.227]   [1.7424]  [0.4507,0.0076]     [0.9912,0.8808]     25.55     0.29   \n"
     ]
    },
    {
     "name": "stderr",
     "output_type": "stream",
     "text": [
      " 18%|█▊        | 1834/10000 [00:01<00:04, 1688.63eval/s, iteration=3]"
     ]
    },
    {
     "name": "stdout",
     "output_type": "stream",
     "text": [
      "RandomSearchMutPolyBounded-11389593920  2         98/1024   500       54             [0.865]   [0.3727]  [0.0883]  [1.7424]  [0.3489,0.0076]     [0.9912,0.9241]     35.51     0.35   \n"
     ]
    },
    {
     "name": "stderr",
     "output_type": "stream",
     "text": [
      " 24%|██▎       | 2367/10000 [00:01<00:04, 1558.98eval/s, iteration=4]"
     ]
    },
    {
     "name": "stdout",
     "output_type": "stream",
     "text": [
      "RandomSearchMutPolyBounded-11389593920  3         113/1024  500       51             [0.8162]  [0.357]   [0.0883]  [1.7424]  [0.3489,0.0041]     [0.9912,0.9241]     41.82     0.34   \n"
     ]
    },
    {
     "name": "stderr",
     "output_type": "stream",
     "text": [
      " 28%|██▊       | 2833/10000 [00:01<00:03, 1829.33eval/s, iteration=5]"
     ]
    },
    {
     "name": "stdout",
     "output_type": "stream",
     "text": [
      "RandomSearchMutPolyBounded-11389593920  4         121/1024  500       48             [0.7683]  [0.3326]  [0.0883]  [1.7424]  [0.3489,0.0024]     [0.9912,0.9241]     45.70     0.26   \n"
     ]
    },
    {
     "name": "stderr",
     "output_type": "stream",
     "text": [
      " 33%|███▎      | 3270/10000 [00:02<00:04, 1451.79eval/s, iteration=6]"
     ]
    },
    {
     "name": "stdout",
     "output_type": "stream",
     "text": [
      "RandomSearchMutPolyBounded-11389593920  5         132/1024  500       54             [0.712]   [0.3228]  [0.0878]  [1.7221]  [0.3595,0.0024]     [0.9887,0.9213]     51.04     0.33   \n"
     ]
    },
    {
     "name": "stderr",
     "output_type": "stream",
     "text": [
      " 37%|███▋      | 3666/10000 [00:02<00:03, 1697.88eval/s, iteration=7]"
     ]
    },
    {
     "name": "stdout",
     "output_type": "stream",
     "text": [
      "RandomSearchMutPolyBounded-11389593920  6         141/1024  500       48             [0.6895]  [0.3226]  [0.0848]  [1.7906]  [0.3255,0.0024]     [0.9887,0.9368]     55.03     0.31   \n"
     ]
    },
    {
     "name": "stderr",
     "output_type": "stream",
     "text": [
      " 43%|████▎     | 4339/10000 [00:02<00:04, 1347.80eval/s, iteration=8]"
     ]
    },
    {
     "name": "stdout",
     "output_type": "stream",
     "text": [
      "RandomSearchMutPolyBounded-11389593920  7         145/1024  500       52             [0.6567]  [0.3089]  [0.0848]  [1.7906]  [0.3255,0.0024]     [0.9887,0.9368]     57.35     0.44   \n"
     ]
    },
    {
     "name": "stderr",
     "output_type": "stream",
     "text": [
      " 49%|████▊     | 4857/10000 [00:03<00:03, 1562.36eval/s, iteration=9]"
     ]
    },
    {
     "name": "stdout",
     "output_type": "stream",
     "text": [
      "RandomSearchMutPolyBounded-11389593920  8         152/1024  500       53             [0.6214]  [0.3143]  [0.0768]  [1.7906]  [0.3019,0.0005]     [0.9871,0.9434]     60.97     0.32   \n"
     ]
    },
    {
     "name": "stderr",
     "output_type": "stream",
     "text": [
      " 53%|█████▎    | 5309/10000 [00:03<00:02, 1602.96eval/s, iteration=10]"
     ]
    },
    {
     "name": "stdout",
     "output_type": "stream",
     "text": [
      "RandomSearchMutPolyBounded-11389593920  9         154/1024  500       41             [0.6064]  [0.3098]  [0.0768]  [1.7906]  [0.3019,0.0005]     [0.9902,0.9434]     62.14     0.27   \n"
     ]
    },
    {
     "name": "stderr",
     "output_type": "stream",
     "text": [
      " 59%|█████▊    | 5851/10000 [00:03<00:02, 1604.68eval/s, iteration=11]"
     ]
    },
    {
     "name": "stdout",
     "output_type": "stream",
     "text": [
      "RandomSearchMutPolyBounded-11389593920  10        154/1024  500       32             [0.5909]  [0.3066]  [0.0768]  [1.7906]  [0.3019,0.0005]     [0.9902,0.9434]     62.52     0.33   \n"
     ]
    },
    {
     "name": "stderr",
     "output_type": "stream",
     "text": [
      " 62%|██████▏   | 6193/10000 [00:04<00:02, 1400.56eval/s, iteration=12]"
     ]
    },
    {
     "name": "stdout",
     "output_type": "stream",
     "text": [
      "RandomSearchMutPolyBounded-11389593920  11        155/1024  500       43             [0.5771]  [0.3023]  [0.0513]  [1.7906]  [0.3019,0.0005]     [0.9902,0.9424]     63.26     0.27   \n"
     ]
    },
    {
     "name": "stderr",
     "output_type": "stream",
     "text": [
      " 68%|██████▊   | 6793/10000 [00:04<00:02, 1506.82eval/s, iteration=13]"
     ]
    },
    {
     "name": "stdout",
     "output_type": "stream",
     "text": [
      "RandomSearchMutPolyBounded-11389593920  12        156/1024  500       41             [0.5594]  [0.298]   [0.0513]  [1.7906]  [0.3019,0.0005]     [0.9811,0.9424]     64.11     0.35   \n"
     ]
    },
    {
     "name": "stderr",
     "output_type": "stream",
     "text": [
      " 74%|███████▎  | 7368/10000 [00:04<00:01, 1835.11eval/s, iteration=14]"
     ]
    },
    {
     "name": "stdout",
     "output_type": "stream",
     "text": [
      "RandomSearchMutPolyBounded-11389593920  13        159/1024  500       29             [0.5442]  [0.299]   [0.0513]  [1.7906]  [0.3019,0.0005]     [0.9854,0.9424]     65.73     0.30   \n"
     ]
    },
    {
     "name": "stderr",
     "output_type": "stream",
     "text": [
      " 78%|███████▊  | 7846/10000 [00:04<00:01, 1706.91eval/s, iteration=15]"
     ]
    },
    {
     "name": "stdout",
     "output_type": "stream",
     "text": [
      "RandomSearchMutPolyBounded-11389593920  14        159/1024  500       32             [0.5336]  [0.2942]  [0.0513]  [1.7906]  [0.3019,0.0005]     [0.9854,0.9424]     66.00     0.26   \n"
     ]
    },
    {
     "name": "stderr",
     "output_type": "stream",
     "text": [
      " 83%|████████▎ | 8332/10000 [00:05<00:00, 1827.17eval/s, iteration=16]"
     ]
    },
    {
     "name": "stdout",
     "output_type": "stream",
     "text": [
      "RandomSearchMutPolyBounded-11389593920  15        162/1024  500       25             [0.5271]  [0.3026]  [0.0513]  [1.7906]  [0.3014,0.0005]     [0.9928,0.9424]     67.41     0.27   \n"
     ]
    },
    {
     "name": "stderr",
     "output_type": "stream",
     "text": [
      " 89%|████████▉ | 8886/10000 [00:05<00:00, 1549.21eval/s, iteration=17]"
     ]
    },
    {
     "name": "stdout",
     "output_type": "stream",
     "text": [
      "RandomSearchMutPolyBounded-11389593920  16        164/1024  500       20             [0.5353]  [0.3158]  [0.0513]  [1.7906]  [0.3014,0.0005]     [0.9928,0.9424]     68.03     0.40   \n"
     ]
    },
    {
     "name": "stderr",
     "output_type": "stream",
     "text": [
      " 94%|█████████▍| 9379/10000 [00:05<00:00, 1904.54eval/s, iteration=18]"
     ]
    },
    {
     "name": "stdout",
     "output_type": "stream",
     "text": [
      "RandomSearchMutPolyBounded-11389593920  17        165/1024  500       31             [0.5263]  [0.3122]  [0.0513]  [1.7887]  [0.3014,0.0005]     [0.9928,0.9465]     68.68     0.25   \n"
     ]
    },
    {
     "name": "stderr",
     "output_type": "stream",
     "text": [
      " 99%|█████████▊| 9859/10000 [00:06<00:00, 1832.95eval/s, iteration=19]"
     ]
    },
    {
     "name": "stdout",
     "output_type": "stream",
     "text": [
      "RandomSearchMutPolyBounded-11389593920  18        166/1024  500       29             [0.5328]  [0.3247]  [0.0513]  [1.7887]  [0.3014,0.0005]     [0.9928,0.9465]     68.92     0.26   \n"
     ]
    },
    {
     "name": "stderr",
     "output_type": "stream",
     "text": [
      "                                                                       \r"
     ]
    },
    {
     "name": "stdout",
     "output_type": "stream",
     "text": [
      "RandomSearchMutPolyBounded-11389593920  19        168/1024  500       31             [0.5356]  [0.3382]  [0.0513]  [1.7887]  [0.3014,0.0005]     [0.9928,0.9465]     69.68     0.31   \n",
      "Finished optimisation using algorithm 'RandomSearchMutPolyBounded-11389593920'. Total elapsed: 6.222401874999832.\n",
      "\n",
      "Summary RandomSearchMutPolyBounded:\n",
      "  batch_size: 500\n",
      "  budget: 10000\n",
      "  container:  Summary Grid:\n",
      "    activity_per_bin: [[0. 0. 0. ... 0. 0. 0.]  [0. 0. 0. ... 0. 0. 0.]  [0. 0. 0. ... 0. 0. 0.]  ...  [4. 6. 4. ... 0. 0. 0.]  [8. 8. 7. ... 0. 0. 0.]  [7. 6. 7. ... 0. 0. 0.]]\n",
      "    best: Individual([0.055968669438245744, 0.00044318636485840557, 0.00021592583695484446])\n",
      "    best_features: (0.3404758092826208, 0.9395139609227455)\n",
      "    best_fitness: (0.05130567066426528,)\n",
      "    best_index: (10, 30)\n",
      "    capacity: 1024\n",
      "    depot: None\n",
      "    discard_random_on_bin_overload: False\n",
      "    features: {(0, 0): [], (0, 1): [], (0, 2): [], (0, 3): [], (0, 4): [], (0, 5): [], (0, 6): [], (0, 7): [], (0, 8): [], (0, 9): [], (0, 10): [], (0, 11): [], (0, 12): [], (0, 13): [], (0, 14): [], (0, 15): [], (0, 16): [], (0, 17): [], (0, 18): [], (0, 19) ...\n",
      "    features_domain: ((0.0, 1.0), (0.0, 1.0))\n",
      "    features_extrema: ((0.30144432003894645, 0.9928495918020019), (0.00047967843787938627, 0.9464857030985887))\n",
      "    filled_bins: 168\n",
      "    fitness: {(0, 0): [], (0, 1): [], (0, 2): [], (0, 3): [], (0, 4): [], (0, 5): [], (0, 6): [], (0, 7): [], (0, 8): [], (0, 9): [], (0, 10): [], (0, 11): [], (0, 12): [], (0, 13): [], (0, 14): [], (0, 15): [], (0, 16): [], (0, 17): [], (0, 18): [], (0, 19) ...\n",
      "    fitness_domain: ((-3.141592653589793, 3.141592653589793),)\n",
      "    fitness_extrema: ((0.05130567066426528, 1.7887143448964715),)\n",
      "    free: 856\n",
      "    history_recentness_per_bin: {(0, 0): [], (0, 1): [], (0, 2): [], (0, 3): [], (0, 4): [], (0, 5): [], (0, 6): [], (0, 7): [], (0, 8): [], (0, 9): [], (0, 10): [], (0, 11): [], (0, 12): [], (0, 13): [], (0, 14): [], (0, 15): [], (0, 16): [], (0, 17): [], (0, 18): [], (0, 19) ...\n",
      "    items: [Individual([0.028005906636515587, 0.16459861938605302, 0.027382432885905028]), Individual([0.07124319933422207, 0.019367926092265453, 0.20648738617445517]), Individual([0.12253353079823104, 0.011394468486131348, 0.004411189432041218]), Individu ...\n",
      "    max_items_per_bin: 1\n",
      "    name: Grid-11389670832\n",
      "    nb_added: 814\n",
      "    nb_discarded: 646\n",
      "    nb_items_per_bin: [[0. 0. 0. ... 0. 0. 0.]  [0. 0. 0. ... 0. 0. 0.]  [0. 0. 0. ... 0. 0. 0.]  ...  [1. 1. 1. ... 0. 0. 0.]  [1. 1. 1. ... 0. 0. 0.]  [1. 1. 1. ... 0. 0. 0.]]\n",
      "    nb_operations: 1460\n",
      "    nb_rejected: 5315\n",
      "    quality: {(0, 0): None, (0, 1): None, (0, 2): None, (0, 3): None, (0, 4): None, (0, 5): None, (0, 6): None, (0, 7): None, (0, 8): None, (0, 9): None, (0, 10): None, (0, 11): None, (0, 12): None, (0, 13): None, (0, 14): None, (0, 15): None, (0, 16): None, ...\n",
      "    quality_array: [[[       nan]   [       nan]   [       nan]   ...   [       nan]   [       nan]   [       nan]]   [[       nan]   [       nan]   [       nan]   ...   [       nan]   [       nan]   [       nan]]   [[       nan]   [       nan]   [       nan]   .. ...\n",
      "    recentness: [71, 140, 235, 270, 283, 304, 346, 368, 377, 391, 425, 430, 444, 447, 449, 453, 458, 462, 463, 477, 478, 484, 487, 489, 505, 507, 518, 519, 523, 526, 527, 528, 534, 542, 543, 546, 547, 552, 563, 564, 565, 566, 567, 576, 580, 597, 604, 606, 617,  ...\n",
      "    recentness_per_bin: {(0, 0): [], (0, 1): [], (0, 2): [], (0, 3): [], (0, 4): [], (0, 5): [], (0, 6): [], (0, 7): [], (0, 8): [], (0, 9): [], (0, 10): [], (0, 11): [], (0, 12): [], (0, 13): [], (0, 14): [], (0, 15): [], (0, 16): [], (0, 17): [], (0, 18): [], (0, 19) ...\n",
      "    shape: (32, 32)\n",
      "    size: 168\n",
      "    solutions: {(0, 0): [], (0, 1): [], (0, 2): [], (0, 3): [], (0, 4): [], (0, 5): [], (0, 6): [], (0, 7): [], (0, 8): [], (0, 9): [], (0, 10): [], (0, 11): [], (0, 12): [], (0, 13): [], (0, 14): [], (0, 15): [], (0, 16): [], (0, 17): [], (0, 18): [], (0, 19) ...\n",
      "  current_iter: 20\n",
      "  deepcopy_on_selection: True\n",
      "  dimension: 3\n",
      "  eta: 20.0\n",
      "  ind_domain: (0.0, 1.0)\n",
      "  init_pb: 0.5\n",
      "  mut_pb: 0.2\n",
      "  name: RandomSearchMutPolyBounded-11389593920\n",
      "  nb_evaluations: 10000\n",
      "  nb_evaluations_in_iteration: 0\n",
      "  nb_max_iter: 20\n",
      "  nb_suggestions: 10000\n",
      "  nb_suggestions_in_iteration: 0\n",
      "  nb_updated: 814\n",
      "  nb_updated_in_iteration: 0\n",
      "  optimisation_task: minimisation\n",
      "  sel_pb: 0.5\n",
      "\n",
      "All results are available in the 'final.p' pickle file.\n",
      "\n",
      "    To open it, you can use the following python code:\n",
      "    import pickle\n",
      "    # You may want to import your own packages if the pickle file contains custom objects\n",
      "\n",
      "    with open(\"final.p\", \"rb\") as f:\n",
      "        data = pickle.load(f)\n",
      "    # ``data`` is now a dictionary containing all results, including the final container, all solutions, the algorithm parameters, etc.\n",
      "\n",
      "    grid = data['container']\n",
      "    print(grid.best)\n",
      "    print(grid.best.fitness)\n",
      "    print(grid.best.features)\n",
      "    \n"
     ]
    }
   ],
   "source": [
    "from utils.utils_12.exercise_custom_eval_fn import main\n",
    "import math\n",
    "\"\"\"\n",
    "-------------------------------------------------------------------------\n",
    "Edit this part to do the exercises\n",
    "\"\"\"\n",
    "\n",
    "# TODO: change these parameters\n",
    "NO_BINS=32          # default 32\n",
    "MAX_ITEMS_BIN=1     # default 1\n",
    "BUDGET=10000        # default 10000\n",
    "BATCH_SIZE=500      # default 500\n",
    "PROBLEM_DIM=3       # default 3\n",
    "\n",
    "# TODO: try to define a different objective function (score) and/or features (fit0, fit1)\n",
    "def eval_fn(ind):\n",
    "    \"\"\"An example evaluation function. It takes an individual as input, and returns the pair ``(fitness, features)``, where ``fitness`` and ``features`` are sequences of scores.\"\"\"\n",
    "    normalization = sum((x for x in ind))\n",
    "    k = 10.\n",
    "    score = 1. - sum(( math.cos(k * ind[i]) * math.exp(-(ind[i]*ind[i])/2.) for i in range(len(ind)))) / float(len(ind))\n",
    "    fit0 = sum((x * math.sin(abs(x) * 2. * math.pi) for x in ind)) / normalization\n",
    "    fit1 = sum((x * math.cos(abs(x) * 2. * math.pi) for x in ind)) / normalization\n",
    "    features = (fit0, fit1)\n",
    "    if fit0 > 0. and fit0 < 0.3: # return large value if fit0 is in to the left\n",
    "        return (100000.,), features\n",
    "    return (score,), features\n",
    "\n",
    "\"\"\"\n",
    "-------------------------------------------------------------------------\n",
    "\"\"\"\n",
    "main(eval_fn, NO_BINS, MAX_ITEMS_BIN, BUDGET, BATCH_SIZE, PROBLEM_DIM)"
   ]
  },
  {
   "attachments": {},
   "cell_type": "markdown",
   "id": "6b8b194a",
   "metadata": {},
   "source": [
    "# Exercise 3\n",
    "In this exercise we will use MAP-Elites in combination with Genetic Programming (as implemented in `deap`, see the exercises from the previous lab) to solve a symbolic regression problem. The problem is exactly the same as the one seen in the first exercise of the previous lab on Genetic Programming (in which the goal was to fit a polynomial function), apart from the fact that in this case we will investigate how MAP-Elites illuminates a feature spaces characterized by the size of the tree (the number of nodes) and its depth. Similarly to the exercise seen in the lab on GP, the fitness in this case is the mean square error calculated on the training points (to be minimized). As both features can be seen as proxy for the complexity of the evolved trees, this experiments can give insights on how the performance of the trees depends on their complexity.\n",
    "\n",
    "To start the experiments, run the next cell. Similarly to the previous exercises, at the end of the run the script will generate some plots (in this case only `activityGrid.pdf` and `performancesGrid.pdf`) as well as the pickle file containing the raw results. Also, note that the structure of the best tree is displayed on the terminal (in Reverse Polish notation).\n",
    "Note, in this case, the file will be saved in the `results/ex3/seed` folder.\n",
    "\n",
    " - Is the algorithm able to approximate the given polynomial? If not, try to change some parameters of the algorithm and see if you can improve the results. Note that in this case there is an additional parameter (`INIT_BATCH_SIZE`), that is the size of the first batch (used to initialize the map). This is usually set to be bigger than the batch size at the subsequent iterations of the algorithm.\n",
    " - Try to change the generator function (e.g., to include trigonometric functions) defined in the method `generatorFunction`. Is the algorithm able to approximate more complicated generator functions? Which parameters can you change to improve the results?\n",
    " - What kind of illumination pattern do you observe in the various trials? Do you see any trend/correlation between performance and features (i.e., the size and depth of the tree)?"
   ]
  },
  {
   "cell_type": "code",
   "execution_count": 38,
   "id": "1547d41b",
   "metadata": {
    "tags": []
   },
   "outputs": [
    {
     "name": "stdout",
     "output_type": "stream",
     "text": [
      "EphemeralConstant is already defined, if you changed it restart the kernel\n",
      "Seed: 0\n",
      "iteration\tcontainerSize\tevals\tnbUpdated\tavg         \tstd         \tmin         \tmax         \telapsed \n",
      "0        \t5/100        \t3000 \t10       \t[3.35233297]\t[2.05623151]\t[0.47391268]\t[6.23056426]\t0.888952\n",
      "1        \t14/100       \t500  \t25       \t[2.46254129]\t[2.19901296]\t[0.33772195]\t[6.23056426]\t0.161921\n",
      "2        \t29/100       \t500  \t22       \t[2.50786124]\t[2.38699691]\t[0.20449446]\t[9.63315138]\t0.192525\n",
      "3        \t44/100       \t500  \t39       \t[inf]       \t[nan]       \t[0.00369313]\t[inf]       \t0.237473\n",
      "4        \t46/100       \t500  \t8        \t[inf]       \t[nan]       \t[0.00369313]\t[inf]       \t0.253545\n",
      "5        \t48/100       \t500  \t20       \t[1.77455986]\t[1.85279916]\t[0.00369313]\t[6.23056426]\t0.247761\n",
      "6        \t49/100       \t500  \t12       \t[inf]       \t[nan]       \t[0.00369313]\t[inf]       \t0.247269\n",
      "7        \t49/100       \t500  \t9        \t[1.57836632]\t[1.81041771]\t[0.00369313]\t[6.23056426]\t0.255948\n",
      "8        \t49/100       \t500  \t5        \t[1.55917679]\t[1.80242204]\t[0.00369313]\t[6.23056426]\t0.242579\n",
      "9        \t52/100       \t500  \t9        \t[1.60726395]\t[1.88820908]\t[0.00369313]\t[6.23056426]\t0.25002 \n",
      "10       \t54/100       \t500  \t8        \t[1.71512338]\t[2.1068841] \t[0.00369313]\t[6.88851982]\t0.255414\n",
      "11       \t56/100       \t500  \t10       \t[1.74443123]\t[2.11610323]\t[0.00369313]\t[7.50195939]\t0.246291\n",
      "12       \t56/100       \t500  \t10       \t[1.62178596]\t[1.97716578]\t[0.00369313]\t[6.23056426]\t0.247556\n",
      "13       \t56/100       \t500  \t6        \t[1.52211578]\t[1.91928151]\t[0.00369313]\t[6.23056426]\t0.252358\n",
      "14       \t57/100       \t500  \t3        \t[1.5736843] \t[1.9664905] \t[0.00369313]\t[6.23056426]\t0.235786\n",
      "15       \t58/100       \t500  \t5        \t[1.67133032]\t[2.09879277]\t[0.00369313]\t[7.50195939]\t0.244839\n",
      "16       \t58/100       \t500  \t6        \t[1.65487775]\t[2.1042952] \t[0.00369313]\t[7.50195939]\t0.240682\n",
      "17       \t58/100       \t500  \t0        \t[1.65487775]\t[2.1042952] \t[0.00369313]\t[7.50195939]\t0.427625\n",
      "18       \t58/100       \t500  \t2        \t[1.63083294]\t[2.11043371]\t[0.00369313]\t[7.50195939]\t0.241838\n",
      "19       \t58/100       \t500  \t3        \t[1.61814964]\t[2.11620304]\t[0.00369313]\t[7.50195939]\t0.249444\n",
      "20       \t58/100       \t500  \t2        \t[1.6135045] \t[2.11900342]\t[0.00369313]\t[7.50195939]\t0.235619\n",
      "21       \t58/100       \t500  \t1        \t[1.56275617]\t[2.07143592]\t[0.00369313]\t[7.50195939]\t0.243275\n",
      "22       \t58/100       \t500  \t2        \t[1.54762197]\t[2.07381195]\t[0.00369313]\t[7.50195939]\t0.248403\n",
      "23       \t58/100       \t500  \t1        \t[1.54616288]\t[2.07478598]\t[0.00369313]\t[7.50195939]\t0.241235\n",
      "24       \t58/100       \t500  \t0        \t[1.54616288]\t[2.07478598]\t[0.00369313]\t[7.50195939]\t0.241128\n",
      "25       \t58/100       \t500  \t0        \t[1.54616288]\t[2.07478598]\t[0.00369313]\t[7.50195939]\t0.242521\n",
      "26       \t58/100       \t500  \t1        \t[1.54607351]\t[2.07484679]\t[0.00369313]\t[7.50195939]\t0.253736\n",
      "27       \t58/100       \t500  \t0        \t[1.54607351]\t[2.07484679]\t[0.00369313]\t[7.50195939]\t0.245813\n",
      "28       \t58/100       \t500  \t0        \t[1.54607351]\t[2.07484679]\t[0.00369313]\t[7.50195939]\t0.241362\n",
      "29       \t58/100       \t500  \t0        \t[1.54607351]\t[2.07484679]\t[0.00369313]\t[7.50195939]\t0.247322\n",
      "30       \t58/100       \t500  \t0        \t[1.54607351]\t[2.07484679]\t[0.00369313]\t[7.50195939]\t0.243773\n",
      "31       \t58/100       \t500  \t0        \t[1.54607351]\t[2.07484679]\t[0.00369313]\t[7.50195939]\t0.238244\n",
      "32       \t58/100       \t500  \t1        \t[1.54386586]\t[2.07641801]\t[0.00369313]\t[7.50195939]\t0.241327\n",
      "33       \t58/100       \t500  \t1        \t[1.53467974]\t[2.06897114]\t[0.00369313]\t[7.50195939]\t0.241548\n",
      "34       \t58/100       \t500  \t0        \t[1.53467974]\t[2.06897114]\t[0.00369313]\t[7.50195939]\t0.244424\n",
      "35       \t58/100       \t500  \t0        \t[1.53467974]\t[2.06897114]\t[0.00369313]\t[7.50195939]\t0.249625\n",
      "36       \t58/100       \t500  \t0        \t[1.53467974]\t[2.06897114]\t[0.00369313]\t[7.50195939]\t0.24383 \n",
      "37       \t58/100       \t500  \t0        \t[1.53467974]\t[2.06897114]\t[0.00369313]\t[7.50195939]\t0.239127\n",
      "38       \t58/100       \t500  \t0        \t[1.53467974]\t[2.06897114]\t[0.00369313]\t[7.50195939]\t0.243701\n",
      "39       \t58/100       \t500  \t0        \t[1.53467974]\t[2.06897114]\t[0.00369313]\t[7.50195939]\t0.252809\n",
      "40       \t59/100       \t500  \t1        \t[1.61427101]\t[2.13904299]\t[0.00369313]\t[7.50195939]\t0.238367\n",
      "41       \t59/100       \t500  \t0        \t[1.61427101]\t[2.13904299]\t[0.00369313]\t[7.50195939]\t0.248948\n",
      "42       \t59/100       \t500  \t2        \t[1.61086759]\t[2.14144177]\t[0.00369313]\t[7.50195939]\t0.241911\n",
      "43       \t59/100       \t500  \t0        \t[1.61086759]\t[2.14144177]\t[0.00369313]\t[7.50195939]\t0.2547  \n",
      "44       \t59/100       \t500  \t0        \t[1.61086759]\t[2.14144177]\t[0.00369313]\t[7.50195939]\t0.248067\n",
      "45       \t59/100       \t500  \t0        \t[1.61086759]\t[2.14144177]\t[0.00369313]\t[7.50195939]\t0.245669\n",
      "46       \t59/100       \t500  \t0        \t[1.61086759]\t[2.14144177]\t[0.00369313]\t[7.50195939]\t0.251583\n",
      "47       \t59/100       \t500  \t0        \t[1.61086759]\t[2.14144177]\t[0.00369313]\t[7.50195939]\t0.251133\n",
      "48       \t59/100       \t500  \t0        \t[1.61086759]\t[2.14144177]\t[0.00369313]\t[7.50195939]\t0.234678\n",
      "49       \t59/100       \t500  \t0        \t[1.61086759]\t[2.14144177]\t[0.00369313]\t[7.50195939]\t0.244725\n",
      "50       \t59/100       \t500  \t0        \t[1.61086759]\t[2.14144177]\t[0.00369313]\t[7.50195939]\t0.233054\n",
      "Total elapsed: 13.20447754099996\n",
      "\n",
      "Summary Grid:\n",
      "  activity_per_bin: [[1. 0. 0. 0. 0. 0. 0. 0. 0. 0.]  [2. 2. 1. 0. 0. 0. 0. 0. 0. 0.]  [0. 3. 3. 2. 1. 0. 0. 0. 0. 0.]  [0. 2. 3. 1. 1. 2. 1. 0. 0. 0.]  [0. 0. 6. 3. 4. 4. 3. 2. 1. 0.]  [0. 0. 3. 5. 4. 4. 4. 2. 3. 1.]  [0. 0. 4. 4. 2. 4. 3. 4. 3. 3.]  [0. 0. 2. 5.  ...\n",
      "  best: mul(x, add(x, add(protectedDiv(x, x), add(add(x, x), add(x, x)))))\n",
      "  best_features: [15, 5]\n",
      "  best_fitness: (0.003693127209501566,)\n",
      "  best_index: (7, 4)\n",
      "  capacity: 100\n",
      "  depot: None\n",
      "  discard_random_on_bin_overload: False\n",
      "  features: {(0, 0): [[2, 1]], (0, 1): [], (0, 2): [], (0, 3): [], (0, 4): [], (0, 5): [], (0, 6): [], (0, 7): [], (0, 8): [], (0, 9): [], (1, 0): [[3, 1]], (1, 1): [[3, 2]], (1, 2): [[4, 3]], (1, 3): [], (1, 4): [], (1, 5): [], (1, 6): [], (1, 7): [], (1,  ...\n",
      "  features_domain: [(1, 20), (1, 10)]\n",
      "  features_extrema: ((2, 20), (1, 10))\n",
      "  filled_bins: 59\n",
      "  fitness: {(0, 0): [deap.creator.FitnessMin((6.230564263087531,))], (0, 1): [], (0, 2): [], (0, 3): [], (0, 4): [], (0, 5): [], (0, 6): [], (0, 7): [], (0, 8): [], (0, 9): [], (1, 0): [deap.creator.FitnessMin((2.9531380378178387,))], (1, 1): [deap.creator ...\n",
      "  fitness_domain: [(0.0, inf)]\n",
      "  fitness_extrema: ((0.003693127209501566, 7.501959392499975),)\n",
      "  free: 41\n",
      "  history_recentness_per_bin: {(0, 0): [4], (0, 1): [], (0, 2): [], (0, 3): [], (0, 4): [], (0, 5): [], (0, 6): [], (0, 7): [], (0, 8): [], (0, 9): [], (1, 0): [2, 8], (1, 1): [3, 7], (1, 2): [30], (1, 3): [], (1, 4): [], (1, 5): [], (1, 6): [], (1, 7): [], (1, 8): [], (1, 9 ...\n",
      "  items: [[<deap.gp.Primitive object at 0x2b721b400>, <deap.gp.Terminal object at 0x2a86f0c80>], [<deap.gp.Primitive object at 0x2b721b400>, <deap.gp.Primitive object at 0x2b721b400>, <deap.gp.Terminal object at 0x2a86f0c80>], [<deap.gp.Primitive object  ...\n",
      "  max_items_per_bin: 1\n",
      "  name: Grid-11097101408\n",
      "  nb_added: 224\n",
      "  nb_discarded: 165\n",
      "  nb_items_per_bin: [[1. 0. 0. 0. 0. 0. 0. 0. 0. 0.]  [1. 1. 1. 0. 0. 0. 0. 0. 0. 0.]  [0. 1. 1. 1. 1. 0. 0. 0. 0. 0.]  [0. 1. 1. 1. 1. 1. 1. 0. 0. 0.]  [0. 0. 1. 1. 1. 1. 1. 1. 1. 0.]  [0. 0. 1. 1. 1. 1. 1. 1. 1. 1.]  [0. 0. 1. 1. 1. 1. 1. 1. 1. 1.]  [0. 0. 1. 1.  ...\n",
      "  nb_operations: 389\n",
      "  nb_rejected: 7039\n",
      "  quality: {(0, 0): deap.creator.FitnessMin((6.230564263087531,)), (0, 1): None, (0, 2): None, (0, 3): None, (0, 4): None, (0, 5): None, (0, 6): None, (0, 7): None, (0, 8): None, (0, 9): None, (1, 0): deap.creator.FitnessMin((2.9531380378178387,)), (1, 1): ...\n",
      "  quality_array: [[[6.23056426e+00]   [           nan]   [           nan]   [           nan]   [           nan]   [           nan]   [           nan]   [           nan]   [           nan]   [           nan]]   [[2.95313804e+00]   [5.02372649e+00]   [6.23056426e+ ...\n",
      "  recentness: [3, 6, 7, 8, 9, 22, 26, 27, 29, 31, 33, 37, 42, 43, 60, 75, 82, 84, 87, 94, 95, 102, 117, 128, 134, 141, 153, 157, 158, 168, 171, 174, 175, 180, 181, 186, 189, 191, 195, 197, 198, 199, 203, 205, 206, 207, 208, 210, 211, 212, 213, 214, 215, 216,  ...\n",
      "  recentness_per_bin: {(0, 0): [4], (0, 1): [], (0, 2): [], (0, 3): [], (0, 4): [], (0, 5): [], (0, 6): [], (0, 7): [], (0, 8): [], (0, 9): [], (1, 0): [8], (1, 1): [7], (1, 2): [30], (1, 3): [], (1, 4): [], (1, 5): [], (1, 6): [], (1, 7): [], (1, 8): [], (1, 9): [], ...\n",
      "  shape: (10, 10)\n",
      "  size: 59\n",
      "  solutions: {(0, 0): [[<deap.gp.Primitive object at 0x2b721b400>, <deap.gp.Terminal object at 0x2a86f0c80>]], (0, 1): [], (0, 2): [], (0, 3): [], (0, 4): [], (0, 5): [], (0, 6): [], (0, 7): [], (0, 8): [], (0, 9): [], (1, 0): [[<deap.gp.Primitive object at  ...\n",
      "Smallest best: mul(x, add(x, add(protectedDiv(x, x), add(add(x, x), add(x, x)))))\n",
      "Smallest best fitness: (0.003693127209501566,)\n",
      "Smallest best features: [15, 5]\n",
      "\n",
      "A plot of the performance grid was saved in '/Users/gabrielepadovani/Desktop/Università/Bio_Inspired/lab12/results/ex3/performancesGrid.pdf'.\n",
      "\n",
      "A plot of the activity grid was saved in '/Users/gabrielepadovani/Desktop/Università/Bio_Inspired/lab12/results/ex3/activityGrid.pdf'.\n",
      "All results are available in the 'final.p' pickle file.\n"
     ]
    }
   ],
   "source": [
    "#!/usr/bin/env python3\n",
    "#    This file is part of qdpy.\n",
    "#\n",
    "#    qdpy is free software: you can redistribute it and/or modify\n",
    "#    it under the terms of the GNU Lesser General Public License as\n",
    "#    published by the Free Software Foundation, either version 3 of\n",
    "#    the License, or (at your option) any later version.\n",
    "#\n",
    "#    qdpy is distributed in the hope that it will be useful,\n",
    "#    but WITHOUT ANY WARRANTY; without even the implied warranty of\n",
    "#    MERCHANTABILITY or FITNESS FOR A PARTICULAR PURPOSE. See the\n",
    "#    GNU Lesser General Public License for more details.\n",
    "#\n",
    "#    You should have received a copy of the GNU Lesser General Public\n",
    "#    License along with qdpy. If not, see <http://www.gnu.org/licenses/>.\n",
    "\n",
    "\n",
    "\"\"\"A simple example of MAP-elites to illuminate a fitness function\n",
    "based on a symbolic regression problem. The illumination process\n",
    "is ran with 2 features, i.e., the length of the tree (no. of nodes)\n",
    "and its height (depth).\"\"\"\n",
    "\n",
    "import matplotlib as mpl\n",
    "mpl.use('Agg')\n",
    "import matplotlib.pyplot as plt\n",
    "\n",
    "from qdpy.algorithms.deap import *\n",
    "from qdpy.containers import *\n",
    "from qdpy.benchmarks import *\n",
    "from qdpy.plots import *\n",
    "from qdpy.base import *\n",
    "\n",
    "from deap import base\n",
    "from deap import creator\n",
    "from deap import tools\n",
    "from deap import algorithms\n",
    "from deap import gp\n",
    "import operator\n",
    "\n",
    "import os\n",
    "import numpy as np\n",
    "import random\n",
    "import warnings\n",
    "import scipy\n",
    "\n",
    "import warnings\n",
    "warnings.filterwarnings(\"ignore\")\n",
    "\n",
    "\"\"\"\n",
    "-------------------------------------------------------------------------\n",
    "Edit this part to do the exercises\n",
    "\"\"\"\n",
    "\n",
    "MAX_TREE_SIZE = 20              # default 20\n",
    "MAX_ITEMS_BIN=1                 # default 1\n",
    "INIT_BATCH_SIZE=3000            # default 3000\n",
    "BATCH_SIZE=500                  # default 500\n",
    "\n",
    "GP_NGEN = 50                    # number of generations for GP\n",
    "GP_CXPB, GP_MUTPB = 0.5, 1.0    # crossover and mutation probability for GP\n",
    "seed = 0\n",
    "parallelismType = \"multithreading\"  # type of parellism select one of this multiprocessing, concurrent, multithreading, scoop\n",
    "# TODO: try to change the expression e.g. to include trigonometric functions\n",
    "def generatorFunction(x):\n",
    "    # return math.sin(x)+math.cos(x)\n",
    "    # return math.sin(x)*x**2\n",
    "    return math.sin(x)+5*x**2\n",
    "    # return x**4 + x**3 + x**2 + x\n",
    "\n",
    "\"\"\"\n",
    "-------------------------------------------------------------------------\n",
    "\"\"\"\n",
    "\n",
    "# Create fitness classes (must NOT be initialised in __main__ if you want to use scoop)\n",
    "fitness_weight = -1.0\n",
    "creator.create(\"FitnessMin\", base.Fitness, weights=(fitness_weight,))\n",
    "creator.create(\"Individual\", gp.PrimitiveTree, fitness=creator.FitnessMin, features=list)\n",
    "\n",
    "def protectedDiv(left, right):\n",
    "    try:\n",
    "        return left / right\n",
    "    except ZeroDivisionError:\n",
    "        return 1\n",
    "\n",
    "def evalSymbReg(individual, points):\n",
    "    # Transform the tree expression in a callable function\n",
    "    func = toolbox.compile(expr=individual)\n",
    "    #print(individual)\n",
    "\n",
    "    with warnings.catch_warnings():\n",
    "        warnings.simplefilter(\"ignore\")\n",
    "        try:\n",
    "            # Compute tested function\n",
    "            func_vals = np.array([func(x) for x in points])\n",
    "            # Evaluate the mean squared error between the expression\n",
    "            # and the target function\n",
    "            sqerrors = (func_vals - ref_vals) ** 2.\n",
    "            fitness = [np.real(np.mean(sqerrors))]\n",
    "\n",
    "        except Exception:\n",
    "            fitness = [100.]\n",
    "\n",
    "    length = len(individual)\n",
    "    height = individual.height\n",
    "    features = [length, height]\n",
    "    return [fitness, features]\n",
    "\n",
    "# Compute reference function and stats\n",
    "points = np.array(np.linspace(-1., 1., 1000), dtype=float)\n",
    "dpoints = np.diff(points)\n",
    "ref_vals = np.array([generatorFunction(x) for x in points])\n",
    "\n",
    "# Create primitives\n",
    "pset = gp.PrimitiveSet(\"MAIN\", 1)\n",
    "pset.addPrimitive(operator.add, 2)\n",
    "pset.addPrimitive(operator.sub, 2)\n",
    "pset.addPrimitive(operator.mul, 2)\n",
    "pset.addPrimitive(protectedDiv, 2)\n",
    "pset.addPrimitive(operator.neg, 1)\n",
    "pset.addPrimitive(operator.pow, 2)\n",
    "#pset.addPrimitive(math.cos, 1) # TODO: uncomment this primitive if needed\n",
    "#pset.addPrimitive(math.sin, 1) # TODO: uncomment this primitive if needed\n",
    "try:\n",
    "    pset.addEphemeralConstant(\"rand101\", lambda: random.randint(-1,1))\n",
    "except:\n",
    "    print(\"EphemeralConstant is already defined, if you changed it restart the kernel\")\n",
    "#pset.addEphemeralConstant(\"rand101\", lambda: random.randint(-4.,4.))\n",
    "pset.renameArguments(ARG0='x')\n",
    "\n",
    "# Create Toolbox\n",
    "max_size = MAX_TREE_SIZE\n",
    "toolbox = base.Toolbox()\n",
    "toolbox.register(\"expr\", gp.genHalfAndHalf, pset=pset, min_=1, max_=2) #NOTE: gen half/half initialization\n",
    "toolbox.register(\"individual\", tools.initIterate, creator.Individual, toolbox.expr)\n",
    "toolbox.register(\"population\", tools.initRepeat, list, toolbox.individual)\n",
    "toolbox.register(\"compile\", gp.compile, pset=pset)\n",
    "toolbox.register(\"evaluate\", evalSymbReg, points=points)\n",
    "toolbox.register(\"select\", tools.selRandom) # NOTE: in MAP-Elites, random selection on a grid container\n",
    "toolbox.register(\"mate\", gp.cxOnePoint)\n",
    "toolbox.register(\"expr_mut\", gp.genFull, min_=0, max_=2)\n",
    "toolbox.register(\"mutate\", gp.mutUniform, expr=toolbox.expr_mut, pset=pset)\n",
    "toolbox.decorate(\"mate\", gp.staticLimit(key=operator.attrgetter(\"height\"), max_value=max_size))\n",
    "toolbox.decorate(\"mutate\", gp.staticLimit(key=operator.attrgetter(\"height\"), max_value=max_size))\n",
    "\n",
    "# Algorithm parameters\n",
    "nb_bins = [max_size // 2, 10]              # The number of bins per feature\n",
    "features_domain = [(1, max_size), (1, 10)] # The domain (min/max values) of the features\n",
    "fitness_domain = [(0., np.inf)]            # The domain (min/max values) of the fitness\n",
    "init_batch_size = INIT_BATCH_SIZE          # The number of evaluations of the initial batch ('batch' = population)\n",
    "batch_size = BATCH_SIZE                    # The number of evaluations in each subsequent batch\n",
    "nb_iterations = GP_NGEN                    # The number of iterations (i.e. times where a new batch is evaluated)\n",
    "cxpb = GP_CXPB                             # The probability of mutating each value of a genome\n",
    "mutation_pb = GP_MUTPB                     # The probability of mutating each value of a genome\n",
    "max_items_per_bin = MAX_ITEMS_BIN          # The number of items in each bin of the grid\n",
    "verbose = True                             \n",
    "show_warnings = True                       # Display warning and error messages. Set to True if you want to check if some individuals were out-of-bounds\n",
    "log_base_path = \"./results/ex3\"\n",
    "os.makedirs(log_base_path, exist_ok=True)\n",
    "# Update and print seed\n",
    "np.random.seed(seed)\n",
    "random.seed(seed)\n",
    "print(\"Seed: %i\" % seed)\n",
    "\n",
    "# Create a dict storing all relevant infos\n",
    "results_infos = {}\n",
    "results_infos['features_domain'] = features_domain\n",
    "results_infos['fitness_domain'] = fitness_domain\n",
    "results_infos['nb_bins'] = nb_bins\n",
    "results_infos['init_batch_size'] = init_batch_size\n",
    "results_infos['nb_iterations'] = nb_iterations\n",
    "results_infos['batch_size'] = batch_size\n",
    "\n",
    "# Create container\n",
    "grid = Grid(shape=nb_bins, max_items_per_bin=max_items_per_bin, fitness_domain=fitness_domain, features_domain=features_domain, storage_type=list)\n",
    "\n",
    "with ParallelismManager(parallelismType, toolbox=toolbox) as pMgr:\n",
    "    # Create a QD algorithm\n",
    "    algo = DEAPQDAlgorithm(pMgr.toolbox, grid, init_batch_size = init_batch_size, batch_size = batch_size, niter = nb_iterations,\n",
    "            cxpb = cxpb, mutpb = mutation_pb,\n",
    "            verbose = verbose, show_warnings = show_warnings, results_infos = results_infos, log_base_path = log_base_path)\n",
    "    # Run the illumination process !\n",
    "    algo.run()\n",
    "\n",
    "# Print results info\n",
    "print(f\"Total elapsed: {algo.total_elapsed}\\n\")\n",
    "print(grid.summary())\n",
    "#print(\"Best ever fitness: \", container.best_fitness)\n",
    "#print(\"Best ever ind: \", container.best)\n",
    "#print(\"%s filled bins in the grid\" % (grid.size_str()))\n",
    "#print(\"Solutions found for bins: \", grid.solutions)\n",
    "#print(\"Performances grid: \", grid.fitness)\n",
    "#print(\"Features grid: \", grid.features)\n",
    "\n",
    "# Search for the smallest best in the grid:\n",
    "smallest_best = grid.best\n",
    "smallest_best_fitness = grid.best_fitness\n",
    "smallest_best_length = grid.best_features[0]\n",
    "interval_match = 1e-10\n",
    "for ind in grid:\n",
    "    if abs(ind.fitness.values[0] - smallest_best_fitness.values[0]) < interval_match:\n",
    "        if ind.features[0] < smallest_best_length:\n",
    "            smallest_best_length = ind.features[0]\n",
    "            smallest_best = ind\n",
    "print(\"Smallest best:\", smallest_best)\n",
    "print(\"Smallest best fitness:\", smallest_best.fitness)\n",
    "print(\"Smallest best features:\", smallest_best.features)\n",
    "\n",
    "# It is possible to access the results (including the genomes of the solutions, their performance, etc)\n",
    "# stored in the pickle file by using the following code:\n",
    "#----8<----8<----8<----8<----8<----8<\n",
    "#from deap import base, creator, gp\n",
    "#import pickle\n",
    "#fitness_weight = -1.0\n",
    "#creator.create(\"FitnessMin\", base.Fitness, weights=(fitness_weight,))\n",
    "#creator.create(\"Individual\", gp.PrimitiveTree, fitness=creator.FitnessMin, features=list)\n",
    "#pset = gp.PrimitiveSet(\"MAIN\", 1)\n",
    "#pset.addEphemeralConstant(\"rand101\", lambda: random.randint(-4.,4.))\n",
    "#with open(\"final.p\", \"rb\") as f:\n",
    "#    data = pickle.load(f)\n",
    "#print(data)\n",
    "#----8<----8<----8<----8<----8<----8<\n",
    "# --> data is a dictionary containing the results.\n",
    "\n",
    "# Create plots\n",
    "plot_path = os.path.join(log_base_path, \"performancesGrid.pdf\")\n",
    "plotGridSubplots(grid.quality_array[... ,0], plot_path, plt.get_cmap(\"nipy_spectral\"), grid.features_domain, grid.fitness_extrema[0], nbTicks=None)\n",
    "print(\"\\nA plot of the performance grid was saved in '%s'.\" % os.path.abspath(plot_path))\n",
    "\n",
    "plot_path = os.path.join(log_base_path, \"activityGrid.pdf\")\n",
    "plotGridSubplots(grid.activity_per_bin, plot_path, plt.get_cmap(\"nipy_spectral\"), grid.features_domain, [0, np.max(grid.activity_per_bin)], nbTicks=None)\n",
    "print(\"\\nA plot of the activity grid was saved in '%s'.\" % os.path.abspath(plot_path))\n",
    "\n",
    "print(\"All results are available in the '%s' pickle file.\" % algo.final_filename)"
   ]
  },
  {
   "attachments": {},
   "cell_type": "markdown",
   "id": "d612c540",
   "metadata": {},
   "source": [
    "# Instructions and questions\n",
    "\n",
    "Concisely note down your observations from the previous exercises (follow the bullet points) and think about the following questions. \n",
    "\n",
    " - Do you think there is a trade-off between quality and diversity, or one aspect is more important than the other? If so, which one, and in which circumstances?\n",
    " \n",
    " - In which kind of applications do you think that MAP-Elites (and quality-diversity algorithms in general) could be useful? Why?"
   ]
  }
 ],
 "metadata": {
  "kernelspec": {
   "display_name": "Python 3 (ipykernel)",
   "language": "python",
   "name": "python3"
  },
  "language_info": {
   "codemirror_mode": {
    "name": "ipython",
    "version": 3
   },
   "file_extension": ".py",
   "mimetype": "text/x-python",
   "name": "python",
   "nbconvert_exporter": "python",
   "pygments_lexer": "ipython3",
   "version": "3.9.6"
  }
 },
 "nbformat": 4,
 "nbformat_minor": 5
}
